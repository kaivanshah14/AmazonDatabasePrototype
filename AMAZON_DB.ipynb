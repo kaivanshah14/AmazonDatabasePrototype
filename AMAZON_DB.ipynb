{
  "nbformat": 4,
  "nbformat_minor": 0,
  "metadata": {
    "colab": {
      "name": "AMAZON DB.ipynb",
      "provenance": [],
      "collapsed_sections": [],
      "toc_visible": true,
      "include_colab_link": true
    },
    "kernelspec": {
      "name": "python3",
      "display_name": "Python 3"
    },
    "language_info": {
      "name": "python"
    }
  },
  "cells": [
    {
      "cell_type": "markdown",
      "metadata": {
        "id": "view-in-github",
        "colab_type": "text"
      },
      "source": [
        "<a href=\"https://colab.research.google.com/github/kaivanshah14/AmazonDatabasePrototype/blob/main/AMAZON_DB.ipynb\" target=\"_parent\"><img src=\"https://colab.research.google.com/assets/colab-badge.svg\" alt=\"Open In Colab\"/></a>"
      ]
    },
    {
      "cell_type": "markdown",
      "metadata": {
        "id": "9x6cYzCGk4Pp"
      },
      "source": [
        "# **DBMS MINIPROJECT : AMAZON DATABASE**\n",
        "\n",
        "KAIVAN - 40\n",
        "\n",
        "SHREY - 41\n",
        "\n",
        "URVANSH - 42\n",
        "\n",
        "HAFSA - 43"
      ]
    },
    {
      "cell_type": "markdown",
      "metadata": {
        "id": "GaPimCZy7gyw"
      },
      "source": [
        "**AMAZON DB** - A database on Amazon gives us information about various products available, their prices, details about customers as well as the suppliers. Since Amazon handles a lot of data a database in necessary in such a case.\n",
        "\n",
        "We have created tables and stored the data in two external files - 'amazondb.txt' and 'amazondbdata.txt' using MySQL and have imported them to perform various SQL Operations"
      ]
    },
    {
      "cell_type": "markdown",
      "metadata": {
        "id": "zR8vlNfS75ij"
      },
      "source": [
        "*Code starts from here*"
      ]
    },
    {
      "cell_type": "code",
      "metadata": {
        "id": "jCSQb2TC8AVz"
      },
      "source": [
        "import sqlite3\n",
        "import pandas as pd"
      ],
      "execution_count": null,
      "outputs": []
    },
    {
      "cell_type": "code",
      "metadata": {
        "colab": {
          "base_uri": "https://localhost:8080/"
        },
        "id": "zY4G6g480XlR",
        "outputId": "5b51ce01-ce8b-437c-9212-6cb4b0ec680a"
      },
      "source": [
        "conn_amazon = sqlite3.connect('amazon.db')\n",
        "cursor = conn_amazon.cursor()\n",
        "\n",
        "sql_file = open('amazondb.sql')\n",
        "sql_amazondb = sql_file.read()\n",
        "cursor.executescript(sql_amazondb)\n",
        "\n",
        "sql_file = open('amazondbdata.sql')\n",
        "sql_amazondbdata = sql_file.read()\n",
        "cursor.executescript(sql_amazondbdata)"
      ],
      "execution_count": null,
      "outputs": [
        {
          "output_type": "execute_result",
          "data": {
            "text/plain": [
              "<sqlite3.Cursor at 0x7ff676e80f10>"
            ]
          },
          "metadata": {},
          "execution_count": 2
        }
      ]
    },
    {
      "cell_type": "markdown",
      "metadata": {
        "id": "uMANSFv44mKh"
      },
      "source": [
        "Q1. Display all the orders placed by Customer with Customer ID 'C004'"
      ]
    },
    {
      "cell_type": "code",
      "metadata": {
        "id": "DYO9zViG4o4R",
        "colab": {
          "base_uri": "https://localhost:8080/",
          "height": 110
        },
        "outputId": "03283964-a4d8-418f-fa12-c3ac39773774"
      },
      "source": [
        "q1 = '''\n",
        "SELECT *\n",
        "FROM ORDERS\n",
        "WHERE CID = 'C004'\n",
        "ORDER BY O_DATE\n",
        "'''\n",
        "table = pd.read_sql_query(q1, conn_amazon)\n",
        "table"
      ],
      "execution_count": null,
      "outputs": [
        {
          "output_type": "execute_result",
          "data": {
            "text/html": [
              "<div>\n",
              "<style scoped>\n",
              "    .dataframe tbody tr th:only-of-type {\n",
              "        vertical-align: middle;\n",
              "    }\n",
              "\n",
              "    .dataframe tbody tr th {\n",
              "        vertical-align: top;\n",
              "    }\n",
              "\n",
              "    .dataframe thead th {\n",
              "        text-align: right;\n",
              "    }\n",
              "</style>\n",
              "<table border=\"1\" class=\"dataframe\">\n",
              "  <thead>\n",
              "    <tr style=\"text-align: right;\">\n",
              "      <th></th>\n",
              "      <th>O_DATE</th>\n",
              "      <th>OID</th>\n",
              "      <th>CID</th>\n",
              "      <th>D_DATE</th>\n",
              "      <th>PAYID</th>\n",
              "    </tr>\n",
              "  </thead>\n",
              "  <tbody>\n",
              "    <tr>\n",
              "      <th>0</th>\n",
              "      <td>2020-04-16</td>\n",
              "      <td>OR1</td>\n",
              "      <td>C004</td>\n",
              "      <td>2020-04-19</td>\n",
              "      <td>PMT1</td>\n",
              "    </tr>\n",
              "    <tr>\n",
              "      <th>1</th>\n",
              "      <td>2020-09-07</td>\n",
              "      <td>OR10</td>\n",
              "      <td>C004</td>\n",
              "      <td>2020-09-16</td>\n",
              "      <td>PMT10</td>\n",
              "    </tr>\n",
              "  </tbody>\n",
              "</table>\n",
              "</div>"
            ],
            "text/plain": [
              "       O_DATE   OID   CID      D_DATE  PAYID\n",
              "0  2020-04-16   OR1  C004  2020-04-19   PMT1\n",
              "1  2020-09-07  OR10  C004  2020-09-16  PMT10"
            ]
          },
          "metadata": {},
          "execution_count": 3
        }
      ]
    },
    {
      "cell_type": "markdown",
      "metadata": {
        "id": "IrPYAFet4pwK"
      },
      "source": [
        "Q2. Display all the product from the brand ZARA"
      ]
    },
    {
      "cell_type": "code",
      "metadata": {
        "id": "g8P3K8uX49KC",
        "colab": {
          "base_uri": "https://localhost:8080/",
          "height": 110
        },
        "outputId": "465cc297-5e1f-4f5c-90fe-dd7a7820332a"
      },
      "source": [
        "q2 = '''\n",
        " SELECT *\n",
        "FROM PRODUCT\n",
        "WHERE BRAND = 'ZARA'\n",
        "'''\n",
        "table = pd.read_sql_query(q2, conn_amazon)\n",
        "table"
      ],
      "execution_count": null,
      "outputs": [
        {
          "output_type": "execute_result",
          "data": {
            "text/html": [
              "<div>\n",
              "<style scoped>\n",
              "    .dataframe tbody tr th:only-of-type {\n",
              "        vertical-align: middle;\n",
              "    }\n",
              "\n",
              "    .dataframe tbody tr th {\n",
              "        vertical-align: top;\n",
              "    }\n",
              "\n",
              "    .dataframe thead th {\n",
              "        text-align: right;\n",
              "    }\n",
              "</style>\n",
              "<table border=\"1\" class=\"dataframe\">\n",
              "  <thead>\n",
              "    <tr style=\"text-align: right;\">\n",
              "      <th></th>\n",
              "      <th>PID</th>\n",
              "      <th>P_NAME</th>\n",
              "      <th>COST</th>\n",
              "      <th>AVAILABILITY</th>\n",
              "      <th>DISCOUNT</th>\n",
              "      <th>BRAND</th>\n",
              "    </tr>\n",
              "  </thead>\n",
              "  <tbody>\n",
              "    <tr>\n",
              "      <th>0</th>\n",
              "      <td>P001</td>\n",
              "      <td>SHIRT</td>\n",
              "      <td>2000</td>\n",
              "      <td>TRUE</td>\n",
              "      <td>10%</td>\n",
              "      <td>ZARA</td>\n",
              "    </tr>\n",
              "    <tr>\n",
              "      <th>1</th>\n",
              "      <td>P009</td>\n",
              "      <td>SHIRT</td>\n",
              "      <td>2000</td>\n",
              "      <td>TRUE</td>\n",
              "      <td>10%</td>\n",
              "      <td>ZARA</td>\n",
              "    </tr>\n",
              "  </tbody>\n",
              "</table>\n",
              "</div>"
            ],
            "text/plain": [
              "    PID P_NAME  COST AVAILABILITY DISCOUNT BRAND\n",
              "0  P001  SHIRT  2000         TRUE      10%  ZARA\n",
              "1  P009  SHIRT  2000         TRUE      10%  ZARA"
            ]
          },
          "metadata": {},
          "execution_count": 4
        }
      ]
    },
    {
      "cell_type": "markdown",
      "metadata": {
        "id": "QgVpuBkN4-uz"
      },
      "source": [
        "Q3. Diplay all the customers who have opted for Cash on Delivery with Amount greater than 3000 Rs"
      ]
    },
    {
      "cell_type": "code",
      "metadata": {
        "id": "uKfaykgA576F",
        "colab": {
          "base_uri": "https://localhost:8080/",
          "height": 80
        },
        "outputId": "d23db923-9c0e-42bd-99ee-ff5903214aba"
      },
      "source": [
        "q3 = '''\n",
        "SELECT C_NAME, OID, PID, P_NAME, COST, \n",
        "QUANTITY, COST*QUANTITY AS AMOUNT, PAYID, PAY_TYPE\n",
        "FROM PRODUCT \n",
        "NATURAL INNER JOIN CART \n",
        "NATURAL INNER JOIN ORDERS \n",
        "NATURAL INNER JOIN CUSTOMER \n",
        "NATURAL INNER JOIN PAYMENT\n",
        "WHERE AMOUNT>3000 \n",
        "AND PAY_TYPE = 'COD'\n",
        "'''\n",
        "table = pd.read_sql_query(q3, conn_amazon)\n",
        "table"
      ],
      "execution_count": null,
      "outputs": [
        {
          "output_type": "execute_result",
          "data": {
            "text/html": [
              "<div>\n",
              "<style scoped>\n",
              "    .dataframe tbody tr th:only-of-type {\n",
              "        vertical-align: middle;\n",
              "    }\n",
              "\n",
              "    .dataframe tbody tr th {\n",
              "        vertical-align: top;\n",
              "    }\n",
              "\n",
              "    .dataframe thead th {\n",
              "        text-align: right;\n",
              "    }\n",
              "</style>\n",
              "<table border=\"1\" class=\"dataframe\">\n",
              "  <thead>\n",
              "    <tr style=\"text-align: right;\">\n",
              "      <th></th>\n",
              "      <th>C_NAME</th>\n",
              "      <th>OID</th>\n",
              "      <th>PID</th>\n",
              "      <th>P_NAME</th>\n",
              "      <th>COST</th>\n",
              "      <th>QUANTITY</th>\n",
              "      <th>AMOUNT</th>\n",
              "      <th>PAYID</th>\n",
              "      <th>PAY_TYPE</th>\n",
              "    </tr>\n",
              "  </thead>\n",
              "  <tbody>\n",
              "    <tr>\n",
              "      <th>0</th>\n",
              "      <td>MANISH SHAH</td>\n",
              "      <td>OR6</td>\n",
              "      <td>P007</td>\n",
              "      <td>KURTA</td>\n",
              "      <td>5200</td>\n",
              "      <td>4</td>\n",
              "      <td>20800</td>\n",
              "      <td>PMT6</td>\n",
              "      <td>COD</td>\n",
              "    </tr>\n",
              "  </tbody>\n",
              "</table>\n",
              "</div>"
            ],
            "text/plain": [
              "        C_NAME  OID   PID P_NAME  COST  QUANTITY  AMOUNT PAYID PAY_TYPE\n",
              "0  MANISH SHAH  OR6  P007  KURTA  5200         4   20800  PMT6      COD"
            ]
          },
          "metadata": {},
          "execution_count": 17
        }
      ]
    },
    {
      "cell_type": "markdown",
      "metadata": {
        "id": "ITR2ClLU58Nm"
      },
      "source": [
        "Q4. Display all the available products which have price less than 650 after applying the discount"
      ]
    },
    {
      "cell_type": "code",
      "metadata": {
        "id": "w98kQRqr6DTH",
        "colab": {
          "base_uri": "https://localhost:8080/",
          "height": 142
        },
        "outputId": "f24fef5c-ae20-4528-85ac-e25d796677e1"
      },
      "source": [
        "q4 = '''\n",
        "SELECT *\n",
        "FROM PRODUCT\n",
        "WHERE (COST - COST*(DISCOUNT/100)) < 650\n",
        "AND AVAILABILITY = 'TRUE'\n",
        "'''\n",
        "table = pd.read_sql_query(q4, conn_amazon)\n",
        "table"
      ],
      "execution_count": null,
      "outputs": [
        {
          "output_type": "execute_result",
          "data": {
            "text/html": [
              "<div>\n",
              "<style scoped>\n",
              "    .dataframe tbody tr th:only-of-type {\n",
              "        vertical-align: middle;\n",
              "    }\n",
              "\n",
              "    .dataframe tbody tr th {\n",
              "        vertical-align: top;\n",
              "    }\n",
              "\n",
              "    .dataframe thead th {\n",
              "        text-align: right;\n",
              "    }\n",
              "</style>\n",
              "<table border=\"1\" class=\"dataframe\">\n",
              "  <thead>\n",
              "    <tr style=\"text-align: right;\">\n",
              "      <th></th>\n",
              "      <th>PID</th>\n",
              "      <th>P_NAME</th>\n",
              "      <th>COST</th>\n",
              "      <th>AVAILABILITY</th>\n",
              "      <th>DISCOUNT</th>\n",
              "      <th>BRAND</th>\n",
              "    </tr>\n",
              "  </thead>\n",
              "  <tbody>\n",
              "    <tr>\n",
              "      <th>0</th>\n",
              "      <td>P002</td>\n",
              "      <td>PANT</td>\n",
              "      <td>600</td>\n",
              "      <td>TRUE</td>\n",
              "      <td>20%</td>\n",
              "      <td>MANGO</td>\n",
              "    </tr>\n",
              "    <tr>\n",
              "      <th>1</th>\n",
              "      <td>P004</td>\n",
              "      <td>T-SHIRT</td>\n",
              "      <td>600</td>\n",
              "      <td>TRUE</td>\n",
              "      <td>20%</td>\n",
              "      <td>GUCCI</td>\n",
              "    </tr>\n",
              "    <tr>\n",
              "      <th>2</th>\n",
              "      <td>P010</td>\n",
              "      <td>SHIRT</td>\n",
              "      <td>700</td>\n",
              "      <td>TRUE</td>\n",
              "      <td>10%</td>\n",
              "      <td>PANTALOONS</td>\n",
              "    </tr>\n",
              "  </tbody>\n",
              "</table>\n",
              "</div>"
            ],
            "text/plain": [
              "    PID   P_NAME  COST AVAILABILITY DISCOUNT       BRAND\n",
              "0  P002     PANT   600         TRUE      20%       MANGO\n",
              "1  P004  T-SHIRT   600         TRUE      20%       GUCCI\n",
              "2  P010    SHIRT   700         TRUE      10%  PANTALOONS"
            ]
          },
          "metadata": {},
          "execution_count": 6
        }
      ]
    },
    {
      "cell_type": "markdown",
      "metadata": {
        "id": "-4f_V14l6Dav"
      },
      "source": [
        "Q5. Display all the orders and their corresponding payments made based on payment ID"
      ]
    },
    {
      "cell_type": "code",
      "metadata": {
        "id": "czMdfoar6-1Z",
        "colab": {
          "base_uri": "https://localhost:8080/",
          "height": 357
        },
        "outputId": "6c837522-6922-4834-a6f4-9a8944553037"
      },
      "source": [
        "q5 = '''\n",
        "SELECT *\n",
        "FROM ORDERS INNER JOIN PAYMENT \n",
        "ON ORDERS.PAYID = PAYMENT.PAYID\n",
        "'''\n",
        "table = pd.read_sql_query(q5, conn_amazon)\n",
        "table"
      ],
      "execution_count": null,
      "outputs": [
        {
          "output_type": "execute_result",
          "data": {
            "text/html": [
              "<div>\n",
              "<style scoped>\n",
              "    .dataframe tbody tr th:only-of-type {\n",
              "        vertical-align: middle;\n",
              "    }\n",
              "\n",
              "    .dataframe tbody tr th {\n",
              "        vertical-align: top;\n",
              "    }\n",
              "\n",
              "    .dataframe thead th {\n",
              "        text-align: right;\n",
              "    }\n",
              "</style>\n",
              "<table border=\"1\" class=\"dataframe\">\n",
              "  <thead>\n",
              "    <tr style=\"text-align: right;\">\n",
              "      <th></th>\n",
              "      <th>O_DATE</th>\n",
              "      <th>OID</th>\n",
              "      <th>CID</th>\n",
              "      <th>D_DATE</th>\n",
              "      <th>PAYID</th>\n",
              "      <th>PAYID</th>\n",
              "      <th>PAY_TYPE</th>\n",
              "      <th>PAY_DATE</th>\n",
              "    </tr>\n",
              "  </thead>\n",
              "  <tbody>\n",
              "    <tr>\n",
              "      <th>0</th>\n",
              "      <td>2020-04-16</td>\n",
              "      <td>OR1</td>\n",
              "      <td>C004</td>\n",
              "      <td>2020-04-19</td>\n",
              "      <td>PMT1</td>\n",
              "      <td>PMT1</td>\n",
              "      <td>GOOGLEPAY</td>\n",
              "      <td>2020-04-16</td>\n",
              "    </tr>\n",
              "    <tr>\n",
              "      <th>1</th>\n",
              "      <td>2018-01-31</td>\n",
              "      <td>OR2</td>\n",
              "      <td>C006</td>\n",
              "      <td>2018-02-04</td>\n",
              "      <td>PMT2</td>\n",
              "      <td>PMT2</td>\n",
              "      <td>PHONEPAY</td>\n",
              "      <td>2018-01-31</td>\n",
              "    </tr>\n",
              "    <tr>\n",
              "      <th>2</th>\n",
              "      <td>2018-03-02</td>\n",
              "      <td>OR3</td>\n",
              "      <td>C007</td>\n",
              "      <td>2018-03-06</td>\n",
              "      <td>PMT3</td>\n",
              "      <td>PMT3</td>\n",
              "      <td>COD</td>\n",
              "      <td>2018-03-06</td>\n",
              "    </tr>\n",
              "    <tr>\n",
              "      <th>3</th>\n",
              "      <td>2016-02-28</td>\n",
              "      <td>OR4</td>\n",
              "      <td>C001</td>\n",
              "      <td>2016-03-03</td>\n",
              "      <td>PMT4</td>\n",
              "      <td>PMT4</td>\n",
              "      <td>COD</td>\n",
              "      <td>2016-03-03</td>\n",
              "    </tr>\n",
              "    <tr>\n",
              "      <th>4</th>\n",
              "      <td>2015-06-15</td>\n",
              "      <td>OR5</td>\n",
              "      <td>C003</td>\n",
              "      <td>2015-06-20</td>\n",
              "      <td>PMT5</td>\n",
              "      <td>PMT5</td>\n",
              "      <td>UPI</td>\n",
              "      <td>2015-06-15</td>\n",
              "    </tr>\n",
              "    <tr>\n",
              "      <th>5</th>\n",
              "      <td>2015-06-15</td>\n",
              "      <td>OR6</td>\n",
              "      <td>C003</td>\n",
              "      <td>2015-06-20</td>\n",
              "      <td>PMT6</td>\n",
              "      <td>PMT6</td>\n",
              "      <td>COD</td>\n",
              "      <td>2015-06-20</td>\n",
              "    </tr>\n",
              "    <tr>\n",
              "      <th>6</th>\n",
              "      <td>2020-05-21</td>\n",
              "      <td>OR7</td>\n",
              "      <td>C005</td>\n",
              "      <td>2020-05-27</td>\n",
              "      <td>PMT7</td>\n",
              "      <td>PMT7</td>\n",
              "      <td>PAYTM</td>\n",
              "      <td>2020-05-21</td>\n",
              "    </tr>\n",
              "    <tr>\n",
              "      <th>7</th>\n",
              "      <td>2021-05-14</td>\n",
              "      <td>OR8</td>\n",
              "      <td>C008</td>\n",
              "      <td>2021-05-19</td>\n",
              "      <td>PMT8</td>\n",
              "      <td>PMT8</td>\n",
              "      <td>GOOGLEPAY</td>\n",
              "      <td>2021-05-14</td>\n",
              "    </tr>\n",
              "    <tr>\n",
              "      <th>8</th>\n",
              "      <td>2020-11-25</td>\n",
              "      <td>OR9</td>\n",
              "      <td>C010</td>\n",
              "      <td>2020-11-30</td>\n",
              "      <td>PMT9</td>\n",
              "      <td>PMT9</td>\n",
              "      <td>UPI</td>\n",
              "      <td>2020-11-25</td>\n",
              "    </tr>\n",
              "    <tr>\n",
              "      <th>9</th>\n",
              "      <td>2020-09-07</td>\n",
              "      <td>OR10</td>\n",
              "      <td>C004</td>\n",
              "      <td>2020-09-16</td>\n",
              "      <td>PMT10</td>\n",
              "      <td>PMT10</td>\n",
              "      <td>COD</td>\n",
              "      <td>2020-09-16</td>\n",
              "    </tr>\n",
              "  </tbody>\n",
              "</table>\n",
              "</div>"
            ],
            "text/plain": [
              "       O_DATE   OID   CID      D_DATE  PAYID  PAYID   PAY_TYPE    PAY_DATE\n",
              "0  2020-04-16   OR1  C004  2020-04-19   PMT1   PMT1  GOOGLEPAY  2020-04-16\n",
              "1  2018-01-31   OR2  C006  2018-02-04   PMT2   PMT2   PHONEPAY  2018-01-31\n",
              "2  2018-03-02   OR3  C007  2018-03-06   PMT3   PMT3        COD  2018-03-06\n",
              "3  2016-02-28   OR4  C001  2016-03-03   PMT4   PMT4        COD  2016-03-03\n",
              "4  2015-06-15   OR5  C003  2015-06-20   PMT5   PMT5        UPI  2015-06-15\n",
              "5  2015-06-15   OR6  C003  2015-06-20   PMT6   PMT6        COD  2015-06-20\n",
              "6  2020-05-21   OR7  C005  2020-05-27   PMT7   PMT7      PAYTM  2020-05-21\n",
              "7  2021-05-14   OR8  C008  2021-05-19   PMT8   PMT8  GOOGLEPAY  2021-05-14\n",
              "8  2020-11-25   OR9  C010  2020-11-30   PMT9   PMT9        UPI  2020-11-25\n",
              "9  2020-09-07  OR10  C004  2020-09-16  PMT10  PMT10        COD  2020-09-16"
            ]
          },
          "metadata": {},
          "execution_count": 7
        }
      ]
    },
    {
      "cell_type": "markdown",
      "metadata": {
        "id": "7oYe52iW6_Qh"
      },
      "source": [
        "Q6. Display all the employees who are currently handling no customers"
      ]
    },
    {
      "cell_type": "code",
      "metadata": {
        "id": "vW4MPz0E7EB7",
        "colab": {
          "base_uri": "https://localhost:8080/",
          "height": 110
        },
        "outputId": "0421cd79-72d5-44a2-dc97-fa66545887cc"
      },
      "source": [
        "q6 = '''\n",
        "SELECT ENAME AS 'EMPLOYEE NAME'\n",
        "FROM STAFF AS S\n",
        "WHERE S.EID NOT IN (SELECT EID FROM CUSTOMERCARE)\n",
        "'''\n",
        "table = pd.read_sql_query(q6, conn_amazon)\n",
        "table"
      ],
      "execution_count": null,
      "outputs": [
        {
          "output_type": "execute_result",
          "data": {
            "text/html": [
              "<div>\n",
              "<style scoped>\n",
              "    .dataframe tbody tr th:only-of-type {\n",
              "        vertical-align: middle;\n",
              "    }\n",
              "\n",
              "    .dataframe tbody tr th {\n",
              "        vertical-align: top;\n",
              "    }\n",
              "\n",
              "    .dataframe thead th {\n",
              "        text-align: right;\n",
              "    }\n",
              "</style>\n",
              "<table border=\"1\" class=\"dataframe\">\n",
              "  <thead>\n",
              "    <tr style=\"text-align: right;\">\n",
              "      <th></th>\n",
              "      <th>EMPLOYEE NAME</th>\n",
              "    </tr>\n",
              "  </thead>\n",
              "  <tbody>\n",
              "    <tr>\n",
              "      <th>0</th>\n",
              "      <td>Mr Denver Enrica</td>\n",
              "    </tr>\n",
              "    <tr>\n",
              "      <th>1</th>\n",
              "      <td>Mr Perry Shawer</td>\n",
              "    </tr>\n",
              "  </tbody>\n",
              "</table>\n",
              "</div>"
            ],
            "text/plain": [
              "      EMPLOYEE NAME\n",
              "0  Mr Denver Enrica\n",
              "1   Mr Perry Shawer"
            ]
          },
          "metadata": {},
          "execution_count": 8
        }
      ]
    },
    {
      "cell_type": "markdown",
      "metadata": {
        "id": "5LQiwhsQ7EPj"
      },
      "source": [
        "Q7. Display all the customers who have placed an order between 2019 - 2020 and have made payment through Google Pay"
      ]
    },
    {
      "cell_type": "code",
      "metadata": {
        "id": "NC_51gXq7Lau",
        "colab": {
          "base_uri": "https://localhost:8080/",
          "height": 80
        },
        "outputId": "6fbf5e1b-2b59-46ff-97b6-8e8ad56f02a6"
      },
      "source": [
        "q7 = '''\n",
        "SELECT C_NAME, O_DATE, PAY_TYPE\n",
        "FROM ORDERS NATURAL INNER JOIN CUSTOMER \n",
        "NATURAL INNER JOIN PAYMENT\n",
        "WHERE O_DATE BETWEEN '2019-01-01' AND '2020-12-31'\n",
        "AND PAY_TYPE = 'GOOGLEPAY'\n",
        "'''\n",
        "table = pd.read_sql_query(q7, conn_amazon)\n",
        "table"
      ],
      "execution_count": null,
      "outputs": [
        {
          "output_type": "execute_result",
          "data": {
            "text/html": [
              "<div>\n",
              "<style scoped>\n",
              "    .dataframe tbody tr th:only-of-type {\n",
              "        vertical-align: middle;\n",
              "    }\n",
              "\n",
              "    .dataframe tbody tr th {\n",
              "        vertical-align: top;\n",
              "    }\n",
              "\n",
              "    .dataframe thead th {\n",
              "        text-align: right;\n",
              "    }\n",
              "</style>\n",
              "<table border=\"1\" class=\"dataframe\">\n",
              "  <thead>\n",
              "    <tr style=\"text-align: right;\">\n",
              "      <th></th>\n",
              "      <th>C_NAME</th>\n",
              "      <th>O_DATE</th>\n",
              "      <th>PAY_TYPE</th>\n",
              "    </tr>\n",
              "  </thead>\n",
              "  <tbody>\n",
              "    <tr>\n",
              "      <th>0</th>\n",
              "      <td>ARUN YADAV</td>\n",
              "      <td>2020-04-16</td>\n",
              "      <td>GOOGLEPAY</td>\n",
              "    </tr>\n",
              "  </tbody>\n",
              "</table>\n",
              "</div>"
            ],
            "text/plain": [
              "       C_NAME      O_DATE   PAY_TYPE\n",
              "0  ARUN YADAV  2020-04-16  GOOGLEPAY"
            ]
          },
          "metadata": {},
          "execution_count": 9
        }
      ]
    },
    {
      "cell_type": "markdown",
      "metadata": {
        "id": "06AoChxl7Lxm"
      },
      "source": [
        "Q8. Display all the customers who have ordered a shirt and have opted for cash on delivery"
      ]
    },
    {
      "cell_type": "code",
      "metadata": {
        "id": "T4Qp-JdC7ZfM",
        "colab": {
          "base_uri": "https://localhost:8080/",
          "height": 110
        },
        "outputId": "b9b88a97-d659-4eb7-e378-905c0e1e13ae"
      },
      "source": [
        "q8 = '''\n",
        "SELECT DISTINCT C_NAME, P_NAME, \n",
        "PAY_TYPE, OID, PAYID\n",
        "FROM ORDERS \n",
        "NATURAL INNER JOIN CUSTOMER \n",
        "NATURAL INNER JOIN PAYMENT \n",
        "NATURAL INNER JOIN PRODUCT \n",
        "NATURAL INNER JOIN CART\n",
        "WHERE P_NAME = 'SHIRT' AND\n",
        "PAY_TYPE = 'COD'\n",
        "'''\n",
        "table = pd.read_sql_query(q8, conn_amazon)\n",
        "table"
      ],
      "execution_count": null,
      "outputs": [
        {
          "output_type": "execute_result",
          "data": {
            "text/html": [
              "<div>\n",
              "<style scoped>\n",
              "    .dataframe tbody tr th:only-of-type {\n",
              "        vertical-align: middle;\n",
              "    }\n",
              "\n",
              "    .dataframe tbody tr th {\n",
              "        vertical-align: top;\n",
              "    }\n",
              "\n",
              "    .dataframe thead th {\n",
              "        text-align: right;\n",
              "    }\n",
              "</style>\n",
              "<table border=\"1\" class=\"dataframe\">\n",
              "  <thead>\n",
              "    <tr style=\"text-align: right;\">\n",
              "      <th></th>\n",
              "      <th>C_NAME</th>\n",
              "      <th>P_NAME</th>\n",
              "      <th>PAY_TYPE</th>\n",
              "      <th>OID</th>\n",
              "      <th>PAYID</th>\n",
              "    </tr>\n",
              "  </thead>\n",
              "  <tbody>\n",
              "    <tr>\n",
              "      <th>0</th>\n",
              "      <td>GUNJAN PARMAR</td>\n",
              "      <td>SHIRT</td>\n",
              "      <td>COD</td>\n",
              "      <td>OR3</td>\n",
              "      <td>PMT3</td>\n",
              "    </tr>\n",
              "    <tr>\n",
              "      <th>1</th>\n",
              "      <td>ARUN YADAV</td>\n",
              "      <td>SHIRT</td>\n",
              "      <td>COD</td>\n",
              "      <td>OR10</td>\n",
              "      <td>PMT10</td>\n",
              "    </tr>\n",
              "  </tbody>\n",
              "</table>\n",
              "</div>"
            ],
            "text/plain": [
              "          C_NAME P_NAME PAY_TYPE   OID  PAYID\n",
              "0  GUNJAN PARMAR  SHIRT      COD   OR3   PMT3\n",
              "1     ARUN YADAV  SHIRT      COD  OR10  PMT10"
            ]
          },
          "metadata": {},
          "execution_count": 10
        }
      ]
    },
    {
      "cell_type": "markdown",
      "metadata": {
        "id": "GElzULUa7ZpV"
      },
      "source": [
        "Q9. Display all the products which are available and have a price between 500 - 3000"
      ]
    },
    {
      "cell_type": "code",
      "metadata": {
        "id": "qOY-DlAW7a5t",
        "colab": {
          "base_uri": "https://localhost:8080/",
          "height": 234
        },
        "outputId": "ec32861f-cb48-4927-c575-7fa43e0f9b31"
      },
      "source": [
        "q9 = '''\n",
        "SELECT *\n",
        "FROM PRODUCT\n",
        "WHERE AVAILABILITY = 'TRUE' AND\n",
        "COST BETWEEN 500 AND 3000\n",
        "'''\n",
        "table = pd.read_sql_query(q9, conn_amazon)\n",
        "table"
      ],
      "execution_count": null,
      "outputs": [
        {
          "output_type": "execute_result",
          "data": {
            "text/html": [
              "<div>\n",
              "<style scoped>\n",
              "    .dataframe tbody tr th:only-of-type {\n",
              "        vertical-align: middle;\n",
              "    }\n",
              "\n",
              "    .dataframe tbody tr th {\n",
              "        vertical-align: top;\n",
              "    }\n",
              "\n",
              "    .dataframe thead th {\n",
              "        text-align: right;\n",
              "    }\n",
              "</style>\n",
              "<table border=\"1\" class=\"dataframe\">\n",
              "  <thead>\n",
              "    <tr style=\"text-align: right;\">\n",
              "      <th></th>\n",
              "      <th>PID</th>\n",
              "      <th>P_NAME</th>\n",
              "      <th>COST</th>\n",
              "      <th>AVAILABILITY</th>\n",
              "      <th>DISCOUNT</th>\n",
              "      <th>BRAND</th>\n",
              "    </tr>\n",
              "  </thead>\n",
              "  <tbody>\n",
              "    <tr>\n",
              "      <th>0</th>\n",
              "      <td>P001</td>\n",
              "      <td>SHIRT</td>\n",
              "      <td>2000</td>\n",
              "      <td>TRUE</td>\n",
              "      <td>10%</td>\n",
              "      <td>ZARA</td>\n",
              "    </tr>\n",
              "    <tr>\n",
              "      <th>1</th>\n",
              "      <td>P002</td>\n",
              "      <td>PANT</td>\n",
              "      <td>600</td>\n",
              "      <td>TRUE</td>\n",
              "      <td>20%</td>\n",
              "      <td>MANGO</td>\n",
              "    </tr>\n",
              "    <tr>\n",
              "      <th>2</th>\n",
              "      <td>P004</td>\n",
              "      <td>T-SHIRT</td>\n",
              "      <td>600</td>\n",
              "      <td>TRUE</td>\n",
              "      <td>20%</td>\n",
              "      <td>GUCCI</td>\n",
              "    </tr>\n",
              "    <tr>\n",
              "      <th>3</th>\n",
              "      <td>P006</td>\n",
              "      <td>JOGGERS</td>\n",
              "      <td>2300</td>\n",
              "      <td>TRUE</td>\n",
              "      <td>0%</td>\n",
              "      <td>HRX</td>\n",
              "    </tr>\n",
              "    <tr>\n",
              "      <th>4</th>\n",
              "      <td>P009</td>\n",
              "      <td>SHIRT</td>\n",
              "      <td>2000</td>\n",
              "      <td>TRUE</td>\n",
              "      <td>10%</td>\n",
              "      <td>ZARA</td>\n",
              "    </tr>\n",
              "    <tr>\n",
              "      <th>5</th>\n",
              "      <td>P010</td>\n",
              "      <td>SHIRT</td>\n",
              "      <td>700</td>\n",
              "      <td>TRUE</td>\n",
              "      <td>10%</td>\n",
              "      <td>PANTALOONS</td>\n",
              "    </tr>\n",
              "  </tbody>\n",
              "</table>\n",
              "</div>"
            ],
            "text/plain": [
              "    PID   P_NAME  COST AVAILABILITY DISCOUNT       BRAND\n",
              "0  P001    SHIRT  2000         TRUE      10%        ZARA\n",
              "1  P002     PANT   600         TRUE      20%       MANGO\n",
              "2  P004  T-SHIRT   600         TRUE      20%       GUCCI\n",
              "3  P006  JOGGERS  2300         TRUE       0%         HRX\n",
              "4  P009    SHIRT  2000         TRUE      10%        ZARA\n",
              "5  P010    SHIRT   700         TRUE      10%  PANTALOONS"
            ]
          },
          "metadata": {},
          "execution_count": 11
        }
      ]
    },
    {
      "cell_type": "markdown",
      "metadata": {
        "id": "ozjyFH8H7bJt"
      },
      "source": [
        "Q10. Display all the supplier who supply shirt"
      ]
    },
    {
      "cell_type": "code",
      "metadata": {
        "id": "G1wmd8Aa7e2H",
        "colab": {
          "base_uri": "https://localhost:8080/",
          "height": 172
        },
        "outputId": "a4db98fb-9530-42c6-a8ed-8afe1704db03"
      },
      "source": [
        "q10 = '''\n",
        "SELECT S.SINFO, P.P_NAME\n",
        "FROM SUPPLIER AS S, SUPPLIES AS T, PRODUCT AS P \n",
        "WHERE S.SID = T.SID AND\n",
        "T.PID = P.PID AND\n",
        "P_NAME = 'SHIRT'\n",
        "'''\n",
        "table = pd.read_sql_query(q10, conn_amazon)\n",
        "table"
      ],
      "execution_count": null,
      "outputs": [
        {
          "output_type": "execute_result",
          "data": {
            "text/html": [
              "<div>\n",
              "<style scoped>\n",
              "    .dataframe tbody tr th:only-of-type {\n",
              "        vertical-align: middle;\n",
              "    }\n",
              "\n",
              "    .dataframe tbody tr th {\n",
              "        vertical-align: top;\n",
              "    }\n",
              "\n",
              "    .dataframe thead th {\n",
              "        text-align: right;\n",
              "    }\n",
              "</style>\n",
              "<table border=\"1\" class=\"dataframe\">\n",
              "  <thead>\n",
              "    <tr style=\"text-align: right;\">\n",
              "      <th></th>\n",
              "      <th>SINFO</th>\n",
              "      <th>P_NAME</th>\n",
              "    </tr>\n",
              "  </thead>\n",
              "  <tbody>\n",
              "    <tr>\n",
              "      <th>0</th>\n",
              "      <td>SHAH SHIRTS</td>\n",
              "      <td>SHIRT</td>\n",
              "    </tr>\n",
              "    <tr>\n",
              "      <th>1</th>\n",
              "      <td>SHAIKH PRODUCTS</td>\n",
              "      <td>SHIRT</td>\n",
              "    </tr>\n",
              "    <tr>\n",
              "      <th>2</th>\n",
              "      <td>ZARAPR</td>\n",
              "      <td>SHIRT</td>\n",
              "    </tr>\n",
              "    <tr>\n",
              "      <th>3</th>\n",
              "      <td>PANTSELLER</td>\n",
              "      <td>SHIRT</td>\n",
              "    </tr>\n",
              "  </tbody>\n",
              "</table>\n",
              "</div>"
            ],
            "text/plain": [
              "             SINFO P_NAME\n",
              "0      SHAH SHIRTS  SHIRT\n",
              "1  SHAIKH PRODUCTS  SHIRT\n",
              "2           ZARAPR  SHIRT\n",
              "3       PANTSELLER  SHIRT"
            ]
          },
          "metadata": {},
          "execution_count": 12
        }
      ]
    },
    {
      "cell_type": "code",
      "metadata": {
        "colab": {
          "base_uri": "https://localhost:8080/",
          "height": 525
        },
        "id": "l2LVSgagBK9Z",
        "outputId": "46f7fb90-47e0-40b5-85a8-bcf6723d4b1d"
      },
      "source": [
        "q11 = '''\n",
        "select *\n",
        "from customer\n",
        "'''\n",
        "table = pd.read_sql_query(q11, conn_amazon)\n",
        "table"
      ],
      "execution_count": null,
      "outputs": [
        {
          "output_type": "execute_result",
          "data": {
            "text/html": [
              "<div>\n",
              "<style scoped>\n",
              "    .dataframe tbody tr th:only-of-type {\n",
              "        vertical-align: middle;\n",
              "    }\n",
              "\n",
              "    .dataframe tbody tr th {\n",
              "        vertical-align: top;\n",
              "    }\n",
              "\n",
              "    .dataframe thead th {\n",
              "        text-align: right;\n",
              "    }\n",
              "</style>\n",
              "<table border=\"1\" class=\"dataframe\">\n",
              "  <thead>\n",
              "    <tr style=\"text-align: right;\">\n",
              "      <th></th>\n",
              "      <th>CID</th>\n",
              "      <th>C_NAME</th>\n",
              "      <th>C_ADD</th>\n",
              "      <th>C_PH</th>\n",
              "      <th>C_EMAIL</th>\n",
              "    </tr>\n",
              "  </thead>\n",
              "  <tbody>\n",
              "    <tr>\n",
              "      <th>0</th>\n",
              "      <td>C001</td>\n",
              "      <td>GAJANAN RANE</td>\n",
              "      <td>Chembur,Mumbai, Maharashtra, 400071</td>\n",
              "      <td>9029847543</td>\n",
              "      <td>gajarane22@gmail.com</td>\n",
              "    </tr>\n",
              "    <tr>\n",
              "      <th>1</th>\n",
              "      <td>C002</td>\n",
              "      <td>KISHANLAL MEHTA</td>\n",
              "      <td>Virar,Mumbai, Maharashtra, 401301</td>\n",
              "      <td>8652558944</td>\n",
              "      <td>krishcom13@gmail.com</td>\n",
              "    </tr>\n",
              "    <tr>\n",
              "      <th>2</th>\n",
              "      <td>C003</td>\n",
              "      <td>MANISH SHAH</td>\n",
              "      <td>Bangalore, Karnataka, 560042</td>\n",
              "      <td>8569321478</td>\n",
              "      <td>manishshah37@gmail.com</td>\n",
              "    </tr>\n",
              "    <tr>\n",
              "      <th>3</th>\n",
              "      <td>C004</td>\n",
              "      <td>ARUN YADAV</td>\n",
              "      <td>Chennai, Tamil Nadu, 600106</td>\n",
              "      <td>8547693210</td>\n",
              "      <td>arunyadav55@gmail.com</td>\n",
              "    </tr>\n",
              "    <tr>\n",
              "      <th>4</th>\n",
              "      <td>C005</td>\n",
              "      <td>HIRAL SHETH</td>\n",
              "      <td>Dadar (e),Mumbai, Maharashtra, 400014</td>\n",
              "      <td>7856493939</td>\n",
              "      <td>hiral9988@gmail.com</td>\n",
              "    </tr>\n",
              "    <tr>\n",
              "      <th>5</th>\n",
              "      <td>C006</td>\n",
              "      <td>YASH DOSHI</td>\n",
              "      <td>Chembur (east),Mumbai, Maharashtra, 400074</td>\n",
              "      <td>7412589630</td>\n",
              "      <td>yashdoshi4@gmail.com</td>\n",
              "    </tr>\n",
              "    <tr>\n",
              "      <th>6</th>\n",
              "      <td>C007</td>\n",
              "      <td>GUNJAN PARMAR</td>\n",
              "      <td>Dadar(e),Mumbai, Maharashtra, 400014</td>\n",
              "      <td>8523691470</td>\n",
              "      <td>gunjan1255parmar@gmail.com</td>\n",
              "    </tr>\n",
              "    <tr>\n",
              "      <th>7</th>\n",
              "      <td>C008</td>\n",
              "      <td>KAVITA MORE</td>\n",
              "      <td>Jogeshwari (west),Mumbai, Maharashtra, 400102</td>\n",
              "      <td>9632014578</td>\n",
              "      <td>kavitamore86@gmail.com</td>\n",
              "    </tr>\n",
              "    <tr>\n",
              "      <th>8</th>\n",
              "      <td>C009</td>\n",
              "      <td>LALAN MISHRA</td>\n",
              "      <td>Maurya Enclave,Delhi, Delhi, 110088</td>\n",
              "      <td>9658741023</td>\n",
              "      <td>lalanmishra@gmail.com</td>\n",
              "    </tr>\n",
              "    <tr>\n",
              "      <th>9</th>\n",
              "      <td>C010</td>\n",
              "      <td>GEETA SHELAR</td>\n",
              "      <td>Nariman Point,Mumbai, Maharashtra, 400021</td>\n",
              "      <td>9651230477</td>\n",
              "      <td>geetashelar63@gmail.com</td>\n",
              "    </tr>\n",
              "  </tbody>\n",
              "</table>\n",
              "</div>"
            ],
            "text/plain": [
              "    CID           C_NAME  ...        C_PH                     C_EMAIL\n",
              "0  C001     GAJANAN RANE  ...  9029847543        gajarane22@gmail.com\n",
              "1  C002  KISHANLAL MEHTA  ...  8652558944        krishcom13@gmail.com\n",
              "2  C003      MANISH SHAH  ...  8569321478      manishshah37@gmail.com\n",
              "3  C004       ARUN YADAV  ...  8547693210       arunyadav55@gmail.com\n",
              "4  C005      HIRAL SHETH  ...  7856493939         hiral9988@gmail.com\n",
              "5  C006       YASH DOSHI  ...  7412589630        yashdoshi4@gmail.com\n",
              "6  C007    GUNJAN PARMAR  ...  8523691470  gunjan1255parmar@gmail.com\n",
              "7  C008      KAVITA MORE  ...  9632014578      kavitamore86@gmail.com\n",
              "8  C009     LALAN MISHRA  ...  9658741023       lalanmishra@gmail.com\n",
              "9  C010     GEETA SHELAR  ...  9651230477     geetashelar63@gmail.com\n",
              "\n",
              "[10 rows x 5 columns]"
            ]
          },
          "metadata": {},
          "execution_count": 13
        }
      ]
    },
    {
      "cell_type": "code",
      "metadata": {
        "colab": {
          "base_uri": "https://localhost:8080/",
          "height": 357
        },
        "id": "t7kIRjQBBtM8",
        "outputId": "c7269ae9-2139-4a95-e7b3-24fc51022619"
      },
      "source": [
        "q12 = '''\n",
        "select *\n",
        "from product\n",
        "'''\n",
        "table = pd.read_sql_query(q12, conn_amazon)\n",
        "table"
      ],
      "execution_count": null,
      "outputs": [
        {
          "output_type": "execute_result",
          "data": {
            "text/html": [
              "<div>\n",
              "<style scoped>\n",
              "    .dataframe tbody tr th:only-of-type {\n",
              "        vertical-align: middle;\n",
              "    }\n",
              "\n",
              "    .dataframe tbody tr th {\n",
              "        vertical-align: top;\n",
              "    }\n",
              "\n",
              "    .dataframe thead th {\n",
              "        text-align: right;\n",
              "    }\n",
              "</style>\n",
              "<table border=\"1\" class=\"dataframe\">\n",
              "  <thead>\n",
              "    <tr style=\"text-align: right;\">\n",
              "      <th></th>\n",
              "      <th>PID</th>\n",
              "      <th>P_NAME</th>\n",
              "      <th>COST</th>\n",
              "      <th>AVAILABILITY</th>\n",
              "      <th>DISCOUNT</th>\n",
              "      <th>BRAND</th>\n",
              "    </tr>\n",
              "  </thead>\n",
              "  <tbody>\n",
              "    <tr>\n",
              "      <th>0</th>\n",
              "      <td>P001</td>\n",
              "      <td>SHIRT</td>\n",
              "      <td>2000</td>\n",
              "      <td>TRUE</td>\n",
              "      <td>10%</td>\n",
              "      <td>ZARA</td>\n",
              "    </tr>\n",
              "    <tr>\n",
              "      <th>1</th>\n",
              "      <td>P002</td>\n",
              "      <td>PANT</td>\n",
              "      <td>600</td>\n",
              "      <td>TRUE</td>\n",
              "      <td>20%</td>\n",
              "      <td>MANGO</td>\n",
              "    </tr>\n",
              "    <tr>\n",
              "      <th>2</th>\n",
              "      <td>P003</td>\n",
              "      <td>PANT</td>\n",
              "      <td>850</td>\n",
              "      <td>FALSE</td>\n",
              "      <td>15%</td>\n",
              "      <td>PANTALOONS</td>\n",
              "    </tr>\n",
              "    <tr>\n",
              "      <th>3</th>\n",
              "      <td>P004</td>\n",
              "      <td>T-SHIRT</td>\n",
              "      <td>600</td>\n",
              "      <td>TRUE</td>\n",
              "      <td>20%</td>\n",
              "      <td>GUCCI</td>\n",
              "    </tr>\n",
              "    <tr>\n",
              "      <th>4</th>\n",
              "      <td>P005</td>\n",
              "      <td>BELT</td>\n",
              "      <td>400</td>\n",
              "      <td>FALSE</td>\n",
              "      <td>20%</td>\n",
              "      <td>DIOR</td>\n",
              "    </tr>\n",
              "    <tr>\n",
              "      <th>5</th>\n",
              "      <td>P006</td>\n",
              "      <td>JOGGERS</td>\n",
              "      <td>2300</td>\n",
              "      <td>TRUE</td>\n",
              "      <td>0%</td>\n",
              "      <td>HRX</td>\n",
              "    </tr>\n",
              "    <tr>\n",
              "      <th>6</th>\n",
              "      <td>P007</td>\n",
              "      <td>KURTA</td>\n",
              "      <td>5200</td>\n",
              "      <td>TRUE</td>\n",
              "      <td>30%</td>\n",
              "      <td>LIBAS</td>\n",
              "    </tr>\n",
              "    <tr>\n",
              "      <th>7</th>\n",
              "      <td>P008</td>\n",
              "      <td>CAP</td>\n",
              "      <td>1200</td>\n",
              "      <td>FALSE</td>\n",
              "      <td>10%</td>\n",
              "      <td>ROADSTER</td>\n",
              "    </tr>\n",
              "    <tr>\n",
              "      <th>8</th>\n",
              "      <td>P009</td>\n",
              "      <td>SHIRT</td>\n",
              "      <td>2000</td>\n",
              "      <td>TRUE</td>\n",
              "      <td>10%</td>\n",
              "      <td>ZARA</td>\n",
              "    </tr>\n",
              "    <tr>\n",
              "      <th>9</th>\n",
              "      <td>P010</td>\n",
              "      <td>SHIRT</td>\n",
              "      <td>700</td>\n",
              "      <td>TRUE</td>\n",
              "      <td>10%</td>\n",
              "      <td>PANTALOONS</td>\n",
              "    </tr>\n",
              "  </tbody>\n",
              "</table>\n",
              "</div>"
            ],
            "text/plain": [
              "    PID   P_NAME  COST AVAILABILITY DISCOUNT       BRAND\n",
              "0  P001    SHIRT  2000         TRUE      10%        ZARA\n",
              "1  P002     PANT   600         TRUE      20%       MANGO\n",
              "2  P003     PANT   850        FALSE      15%  PANTALOONS\n",
              "3  P004  T-SHIRT   600         TRUE      20%       GUCCI\n",
              "4  P005     BELT   400        FALSE      20%        DIOR\n",
              "5  P006  JOGGERS  2300         TRUE       0%         HRX\n",
              "6  P007    KURTA  5200         TRUE      30%       LIBAS\n",
              "7  P008      CAP  1200        FALSE      10%    ROADSTER\n",
              "8  P009    SHIRT  2000         TRUE      10%        ZARA\n",
              "9  P010    SHIRT   700         TRUE      10%  PANTALOONS"
            ]
          },
          "metadata": {},
          "execution_count": 14
        }
      ]
    },
    {
      "cell_type": "code",
      "metadata": {
        "colab": {
          "base_uri": "https://localhost:8080/",
          "height": 357
        },
        "id": "4z15wYBlB3xw",
        "outputId": "135ea50e-5919-4cc7-d44e-8d85bae0a8bc"
      },
      "source": [
        "q13 = '''\n",
        "select *\n",
        "from supplier\n",
        "'''\n",
        "table = pd.read_sql_query(q13, conn_amazon)\n",
        "table"
      ],
      "execution_count": null,
      "outputs": [
        {
          "output_type": "execute_result",
          "data": {
            "text/html": [
              "<div>\n",
              "<style scoped>\n",
              "    .dataframe tbody tr th:only-of-type {\n",
              "        vertical-align: middle;\n",
              "    }\n",
              "\n",
              "    .dataframe tbody tr th {\n",
              "        vertical-align: top;\n",
              "    }\n",
              "\n",
              "    .dataframe thead th {\n",
              "        text-align: right;\n",
              "    }\n",
              "</style>\n",
              "<table border=\"1\" class=\"dataframe\">\n",
              "  <thead>\n",
              "    <tr style=\"text-align: right;\">\n",
              "      <th></th>\n",
              "      <th>SID</th>\n",
              "      <th>SINFO</th>\n",
              "      <th>S_ADD</th>\n",
              "    </tr>\n",
              "  </thead>\n",
              "  <tbody>\n",
              "    <tr>\n",
              "      <th>0</th>\n",
              "      <td>S001</td>\n",
              "      <td>SHAH SHIRTS</td>\n",
              "      <td>BORIVALI(E) MUMBAI</td>\n",
              "    </tr>\n",
              "    <tr>\n",
              "      <th>1</th>\n",
              "      <td>S002</td>\n",
              "      <td>SHAIKH PRODUCTS</td>\n",
              "      <td>CHENNAI INDIA</td>\n",
              "    </tr>\n",
              "    <tr>\n",
              "      <th>2</th>\n",
              "      <td>S003</td>\n",
              "      <td>ZARAPR</td>\n",
              "      <td>CALIFORNIA USA</td>\n",
              "    </tr>\n",
              "    <tr>\n",
              "      <th>3</th>\n",
              "      <td>S004</td>\n",
              "      <td>MANGOPRODS</td>\n",
              "      <td>TOKYO JAPAN</td>\n",
              "    </tr>\n",
              "    <tr>\n",
              "      <th>4</th>\n",
              "      <td>S005</td>\n",
              "      <td>ROADSTERCO</td>\n",
              "      <td>MIRA ROAD(E) MUMBAI</td>\n",
              "    </tr>\n",
              "    <tr>\n",
              "      <th>5</th>\n",
              "      <td>S006</td>\n",
              "      <td>LIBAS KURTAS</td>\n",
              "      <td>KARNATAKA INDIA</td>\n",
              "    </tr>\n",
              "    <tr>\n",
              "      <th>6</th>\n",
              "      <td>S007</td>\n",
              "      <td>SHIRTSCO</td>\n",
              "      <td>PARIS FRANCE</td>\n",
              "    </tr>\n",
              "    <tr>\n",
              "      <th>7</th>\n",
              "      <td>S008</td>\n",
              "      <td>PANTSELLER</td>\n",
              "      <td>JAIPUR RAJASTHAN</td>\n",
              "    </tr>\n",
              "    <tr>\n",
              "      <th>8</th>\n",
              "      <td>S009</td>\n",
              "      <td>TULIP SSTR</td>\n",
              "      <td>ASSAM INDIA</td>\n",
              "    </tr>\n",
              "    <tr>\n",
              "      <th>9</th>\n",
              "      <td>S010</td>\n",
              "      <td>MINISO SUPPLIERS</td>\n",
              "      <td>MALAD(E) MUMBAI</td>\n",
              "    </tr>\n",
              "  </tbody>\n",
              "</table>\n",
              "</div>"
            ],
            "text/plain": [
              "    SID             SINFO                S_ADD\n",
              "0  S001       SHAH SHIRTS   BORIVALI(E) MUMBAI\n",
              "1  S002   SHAIKH PRODUCTS        CHENNAI INDIA\n",
              "2  S003            ZARAPR       CALIFORNIA USA\n",
              "3  S004        MANGOPRODS          TOKYO JAPAN\n",
              "4  S005        ROADSTERCO  MIRA ROAD(E) MUMBAI\n",
              "5  S006      LIBAS KURTAS      KARNATAKA INDIA\n",
              "6  S007          SHIRTSCO         PARIS FRANCE\n",
              "7  S008        PANTSELLER     JAIPUR RAJASTHAN\n",
              "8  S009        TULIP SSTR          ASSAM INDIA\n",
              "9  S010  MINISO SUPPLIERS      MALAD(E) MUMBAI"
            ]
          },
          "metadata": {},
          "execution_count": 15
        }
      ]
    },
    {
      "cell_type": "code",
      "metadata": {
        "colab": {
          "base_uri": "https://localhost:8080/",
          "height": 357
        },
        "id": "pzpiO5EFCBuL",
        "outputId": "c04f6d88-9d1d-4bd6-cc92-ffa7f3ebcc7d"
      },
      "source": [
        "q14 = '''\n",
        "select *\n",
        "from staff\n",
        "'''\n",
        "table = pd.read_sql_query(q14, conn_amazon)\n",
        "table"
      ],
      "execution_count": null,
      "outputs": [
        {
          "output_type": "execute_result",
          "data": {
            "text/html": [
              "<div>\n",
              "<style scoped>\n",
              "    .dataframe tbody tr th:only-of-type {\n",
              "        vertical-align: middle;\n",
              "    }\n",
              "\n",
              "    .dataframe tbody tr th {\n",
              "        vertical-align: top;\n",
              "    }\n",
              "\n",
              "    .dataframe thead th {\n",
              "        text-align: right;\n",
              "    }\n",
              "</style>\n",
              "<table border=\"1\" class=\"dataframe\">\n",
              "  <thead>\n",
              "    <tr style=\"text-align: right;\">\n",
              "      <th></th>\n",
              "      <th>EID</th>\n",
              "      <th>ENAME</th>\n",
              "      <th>EADD</th>\n",
              "      <th>EPH</th>\n",
              "    </tr>\n",
              "  </thead>\n",
              "  <tbody>\n",
              "    <tr>\n",
              "      <th>0</th>\n",
              "      <td>E001</td>\n",
              "      <td>Ms Calderdale Emma</td>\n",
              "      <td>3364  Dane Street</td>\n",
              "      <td>324-9134</td>\n",
              "    </tr>\n",
              "    <tr>\n",
              "      <th>1</th>\n",
              "      <td>E002</td>\n",
              "      <td>Ms Ricardo Marshall</td>\n",
              "      <td>3757  Martha Ellen Drive</td>\n",
              "      <td>324-4472</td>\n",
              "    </tr>\n",
              "    <tr>\n",
              "      <th>2</th>\n",
              "      <td>E003</td>\n",
              "      <td>Mr Arshad Arif</td>\n",
              "      <td>73  Bastin Drive</td>\n",
              "      <td>324-4575</td>\n",
              "    </tr>\n",
              "    <tr>\n",
              "      <th>3</th>\n",
              "      <td>E004</td>\n",
              "      <td>Ms RobertsAnne</td>\n",
              "      <td>308  Alfred Drive</td>\n",
              "      <td>898-3456</td>\n",
              "    </tr>\n",
              "    <tr>\n",
              "      <th>4</th>\n",
              "      <td>E005</td>\n",
              "      <td>Mr Denver Enrica</td>\n",
              "      <td>310  Alfred Drive</td>\n",
              "      <td>504-4434</td>\n",
              "    </tr>\n",
              "    <tr>\n",
              "      <th>5</th>\n",
              "      <td>E006</td>\n",
              "      <td>Ms Namowa Mirrelle</td>\n",
              "      <td>2996  Mount Olive Road</td>\n",
              "      <td>890-3243</td>\n",
              "    </tr>\n",
              "    <tr>\n",
              "      <th>6</th>\n",
              "      <td>E007</td>\n",
              "      <td>Mrs Smith Gemma</td>\n",
              "      <td>2548  Randolph Street</td>\n",
              "      <td>354-7845</td>\n",
              "    </tr>\n",
              "    <tr>\n",
              "      <th>7</th>\n",
              "      <td>E008</td>\n",
              "      <td>Mr Edmund Pena</td>\n",
              "      <td>4199  Tuna Street</td>\n",
              "      <td>324-7846</td>\n",
              "    </tr>\n",
              "    <tr>\n",
              "      <th>8</th>\n",
              "      <td>E009</td>\n",
              "      <td>Mr Perry Shawer</td>\n",
              "      <td>238  Ryan Road</td>\n",
              "      <td>334-7890</td>\n",
              "    </tr>\n",
              "    <tr>\n",
              "      <th>9</th>\n",
              "      <td>E010</td>\n",
              "      <td>Mrs Rita Altson</td>\n",
              "      <td>4468  Platinum Drive</td>\n",
              "      <td>314-7565</td>\n",
              "    </tr>\n",
              "  </tbody>\n",
              "</table>\n",
              "</div>"
            ],
            "text/plain": [
              "    EID                ENAME                      EADD       EPH\n",
              "0  E001   Ms Calderdale Emma         3364  Dane Street  324-9134\n",
              "1  E002  Ms Ricardo Marshall  3757  Martha Ellen Drive  324-4472\n",
              "2  E003       Mr Arshad Arif          73  Bastin Drive  324-4575\n",
              "3  E004       Ms RobertsAnne         308  Alfred Drive  898-3456\n",
              "4  E005     Mr Denver Enrica         310  Alfred Drive  504-4434\n",
              "5  E006   Ms Namowa Mirrelle    2996  Mount Olive Road  890-3243\n",
              "6  E007      Mrs Smith Gemma     2548  Randolph Street  354-7845\n",
              "7  E008       Mr Edmund Pena         4199  Tuna Street  324-7846\n",
              "8  E009      Mr Perry Shawer            238  Ryan Road  334-7890\n",
              "9  E010      Mrs Rita Altson      4468  Platinum Drive  314-7565"
            ]
          },
          "metadata": {},
          "execution_count": 16
        }
      ]
    }
  ]
}